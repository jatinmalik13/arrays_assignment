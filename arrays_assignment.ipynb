{
 "cells": [
  {
   "cell_type": "code",
   "execution_count": 1,
   "id": "5c56d5ef-7305-45b7-a2eb-778e2ef59ee0",
   "metadata": {},
   "outputs": [
    {
     "name": "stdout",
     "output_type": "stream",
     "text": [
      "True\n"
     ]
    }
   ],
   "source": [
    "# q1)1. Given an array, check if it contains any duplicates or not.\n",
    "# arr = [1, 2, 4, 2, 5, 9]\n",
    "# Output = True\n",
    "\n",
    "# ans\n",
    "\n",
    "def has_duplicates(arr):\n",
    "    return len(arr) != len(set(arr))\n",
    "\n",
    "arr = [1, 2, 4, 2, 5, 9]\n",
    "output = has_duplicates(arr)\n",
    "print(output)  \n"
   ]
  },
  {
   "cell_type": "code",
   "execution_count": 3,
   "id": "9326b564-0c60-44ad-8914-e7518071b2a8",
   "metadata": {},
   "outputs": [
    {
     "name": "stdout",
     "output_type": "stream",
     "text": [
      "[5, 6, 7, 1, 2, 3, 4]\n"
     ]
    }
   ],
   "source": [
    "'''q22. Given an array and an integer k, rotate the array to the right by k steps.\n",
    "arr = [1, 2, 3, 4, 5, 6, 7] k = 3\n",
    "Output = [5, 6, 7, 1, 2, 3, 4]'''\n",
    "\n",
    "# ans\n",
    "\n",
    "def rotate_array(arr, k):\n",
    "    k = k % len(arr) \n",
    "    return arr[-k:] + arr[:-k]\n",
    "\n",
    "arr = [1, 2, 3, 4, 5, 6, 7]\n",
    "k = 3\n",
    "output = rotate_array(arr, k)\n",
    "print(output)  \n",
    "\n"
   ]
  },
  {
   "cell_type": "code",
   "execution_count": 10,
   "id": "90900d14-e8a1-4170-8154-1023309bdc40",
   "metadata": {},
   "outputs": [
    {
     "name": "stdout",
     "output_type": "stream",
     "text": [
      "[12, 9, 7, 5, 4, 2]\n"
     ]
    }
   ],
   "source": [
    "''' 3. Reverse the given array in-place, means without using any extra data structure.\n",
    "arr = [2, 4, 5, 7, 9, 12]\n",
    "Output = [12, 9, 7, 5, 4, 2]'''\n",
    "\n",
    "\n",
    "# asn\n",
    "\n",
    "def reverse_array(arr):\n",
    "    left, right = 0, len(arr) - 1\n",
    "    while left < right:\n",
    "       \n",
    "        arr[left], arr[right] = arr[right], arr[left]\n",
    "       \n",
    "        left += 1\n",
    "        right -= 1\n",
    "    return arr\n",
    "\n",
    "arr = [2, 4, 5, 7, 9, 12]\n",
    "output = reverse_array(arr)\n",
    "print(output) \n",
    "\n"
   ]
  },
  {
   "cell_type": "code",
   "execution_count": 12,
   "id": "3c7fd65a-9598-464d-b3a1-fa8f0b9cf9b9",
   "metadata": {},
   "outputs": [
    {
     "name": "stdout",
     "output_type": "stream",
     "text": [
      "20\n"
     ]
    }
   ],
   "source": [
    "''' 4. Given an array of integers, find the maximum element in an array\n",
    "arr = [10, 5, 20, 8, 15]\n",
    "Output = 20'''\n",
    "\n",
    "\n",
    "# ans \n",
    "\n",
    "\n",
    "def find_max_element(arr):\n",
    "    max_element = arr[0]  \n",
    "    for num in arr[1:]:\n",
    "        if num > max_element:\n",
    "            max_element = num\n",
    "    return max_element\n",
    "\n",
    "arr = [10, 5, 20, 8, 15]\n",
    "output = find_max_element(arr)\n",
    "print(output)  \n"
   ]
  },
  {
   "cell_type": "code",
   "execution_count": 17,
   "id": "025587fe-a427-4d3a-a35e-fda299f4c5c3",
   "metadata": {},
   "outputs": [
    {
     "ename": "IndentationError",
     "evalue": "unindent does not match any outer indentation level (<string>, line 19)",
     "output_type": "error",
     "traceback": [
      "\u001b[1;36m  File \u001b[1;32m<string>:19\u001b[1;36m\u001b[0m\n\u001b[1;33m    index `unique_pos`\u001b[0m\n\u001b[1;37m                      ^\u001b[0m\n\u001b[1;31mIndentationError\u001b[0m\u001b[1;31m:\u001b[0m unindent does not match any outer indentation level\n"
     ]
    }
   ],
   "source": [
    "'''5. Given a sorted array, remove the duplicate element without using any extra data structure.\n",
    "arr = [1, 1, 2, 2, 2, 3, 3, 4, 4, 4, 5, 5]\n",
    "Output = [1, 2, 3, 4, 5]'''\n",
    "\n",
    "# ans\n",
    "\n",
    "def remove_duplicates(arr):\n",
    "    if not arr:\n",
    "        return arr\n",
    "\n",
    "  \n",
    "    unique_pos = 0\n",
    "\n",
    "    for i in range(1, len(arr)):\n",
    "        if arr[i] != arr[unique_pos]:\n",
    "            unique_pos += 1\n",
    "            arr[unique_pos] = arr[i]\n",
    "\n",
    "  index `unique_pos`\n",
    "    return arr[:unique_pos + 1]\n",
    "\n",
    "arr = [1, 1, 2, 2, 2, 3, 3, 4, 4, 4, 5, 5]\n",
    "output = remove_duplicates(arr)\n",
    "print(output)\n",
    "\n",
    "      "
   ]
  },
  {
   "cell_type": "code",
   "execution_count": null,
   "id": "64233b7f-75b4-4391-88a6-84e49a3e5fdc",
   "metadata": {},
   "outputs": [],
   "source": []
  }
 ],
 "metadata": {
  "kernelspec": {
   "display_name": "Python 3 (ipykernel)",
   "language": "python",
   "name": "python3"
  },
  "language_info": {
   "codemirror_mode": {
    "name": "ipython",
    "version": 3
   },
   "file_extension": ".py",
   "mimetype": "text/x-python",
   "name": "python",
   "nbconvert_exporter": "python",
   "pygments_lexer": "ipython3",
   "version": "3.12.0"
  }
 },
 "nbformat": 4,
 "nbformat_minor": 5
}
